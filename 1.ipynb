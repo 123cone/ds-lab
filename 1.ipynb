{
 "cells": [
  {
   "cell_type": "code",
   "execution_count": 4,
   "metadata": {},
   "outputs": [],
   "source": [
    "import threading\n",
    "\n",
    "def mapper(words):\n",
    "    return [(word, 1) for word in words.split()]"
   ]
  },
  {
   "cell_type": "code",
   "execution_count": 5,
   "metadata": {},
   "outputs": [],
   "source": [
    "def reducer(word, counts):\n",
    "    return (word, sum(counts))\n"
   ]
  },
  {
   "cell_type": "code",
   "execution_count": 6,
   "metadata": {},
   "outputs": [],
   "source": [
    "def map_reduce(words):\n",
    "    mapped_pairs = mapper(words)\n",
    "    shuffled_pairs = {}\n",
    "    for word, count in mapped_pairs:\n",
    "        shuffled_pairs.setdefault(word, []).append(count)\n",
    "    return [reducer(word, counts) for word, counts in shuffled_pairs.items()]"
   ]
  },
  {
   "cell_type": "code",
   "execution_count": 8,
   "metadata": {},
   "outputs": [
    {
     "name": "stdout",
     "output_type": "stream",
     "text": [
      "('hi', 1)\n",
      "('this', 1)\n",
      "('is', 1)\n",
      "('the', 1)\n",
      "('input', 1)\n",
      "('file', 1)\n",
      "('that', 1)\n",
      "('i', 1)\n",
      "('have', 1)\n",
      "('created', 1)\n"
     ]
    }
   ],
   "source": [
    "def main():\n",
    "    with open(\"C:\\\\cse\\\\input.txt.txt\", 'r') as f:\n",
    "        words = f.read()\n",
    "    result = map_reduce(words)\n",
    "    for pair in result:\n",
    "        print(pair)\n",
    "\n",
    "if __name__ == '__main__':\n",
    "    main()"
   ]
  }
 ],
 "metadata": {
  "kernelspec": {
   "display_name": "Python 3",
   "language": "python",
   "name": "python3"
  },
  "language_info": {
   "codemirror_mode": {
    "name": "ipython",
    "version": 3
   },
   "file_extension": ".py",
   "mimetype": "text/x-python",
   "name": "python",
   "nbconvert_exporter": "python",
   "pygments_lexer": "ipython3",
   "version": "3.9.9"
  }
 },
 "nbformat": 4,
 "nbformat_minor": 2
}
